{
 "cells": [
  {
   "cell_type": "markdown",
   "metadata": {},
   "source": [
    "Purpose: This gets the APN file from Kern County and joins it with the TWSC layer from AEWSD and filters it to the district boundaries\n"
   ]
  },
  {
   "cell_type": "code",
   "execution_count": 1,
   "metadata": {},
   "outputs": [
    {
     "ename": "ModuleNotFoundError",
     "evalue": "No module named 'data'",
     "output_type": "error",
     "traceback": [
      "\u001b[1;31m---------------------------------------------------------------------------\u001b[0m",
      "\u001b[1;31mModuleNotFoundError\u001b[0m                       Traceback (most recent call last)",
      "Cell \u001b[1;32mIn[1], line 1\u001b[0m\n\u001b[1;32m----> 1\u001b[0m \u001b[38;5;28;01mfrom\u001b[39;00m \u001b[38;5;21;01mdata\u001b[39;00m \u001b[38;5;28;01mimport\u001b[39;00m district_boundary\n\u001b[0;32m      2\u001b[0m \u001b[38;5;28;01mimport\u001b[39;00m \u001b[38;5;21;01mgeopandas\u001b[39;00m \u001b[38;5;28;01mas\u001b[39;00m \u001b[38;5;21;01mgpd\u001b[39;00m\n\u001b[0;32m      3\u001b[0m \u001b[38;5;28;01mfrom\u001b[39;00m \u001b[38;5;21;01mpathlib\u001b[39;00m \u001b[38;5;28;01mimport\u001b[39;00m Path\n",
      "\u001b[1;31mModuleNotFoundError\u001b[0m: No module named 'data'"
     ]
    }
   ],
   "source": [
    "from data import district_boundary\n",
    "import geopandas as gpd\n",
    "from pathlib import Path\n",
    "\n",
    "data_path = Path(\"../data\")\n",
    "apns = gpd.read_parquet(data_path.joinpath(\"apns.parquet\")).to_crs(\"EPSG:4326\")\n",
    "apn_gdf = apns[apns.intersects(district_boundary.unary_union)]\n",
    "apn_gdf.head(3)"
   ]
  },
  {
   "cell_type": "code",
   "execution_count": 2,
   "metadata": {},
   "outputs": [],
   "source": [
    "TW = gpd.read_file(data_path.joinpath(\"TWSC_2023/TWSC_2023.shp\"))\n",
    "GW = gpd.read_file(data_path.joinpath(\"FrickUnit_Outreach/GWSA.shp\"))\n",
    "\n",
    "TW[\"APN\"].unique()\n",
    "\n",
    "GW[\"APN\"].unique()"
   ]
  },
  {
   "cell_type": "code",
   "execution_count": 11,
   "metadata": {},
   "outputs": [
    {
     "name": "stderr",
     "output_type": "stream",
     "text": [
      "c:\\Users\\Denver\\AppData\\Local\\pypoetry\\Cache\\virtualenvs\\pandas-analysis-pSGX_PKJ-py3.10\\lib\\site-packages\\geopandas\\geodataframe.py:1443: SettingWithCopyWarning: \n",
      "A value is trying to be set on a copy of a slice from a DataFrame.\n",
      "Try using .loc[row_indexer,col_indexer] = value instead\n",
      "\n",
      "See the caveats in the documentation: https://pandas.pydata.org/pandas-docs/stable/user_guide/indexing.html#returning-a-view-versus-a-copy\n",
      "  super().__setitem__(key, value)\n"
     ]
    }
   ],
   "source": [
    "apn_gdf[\"Service Area Type\"] = (\n",
    "    apn_gdf[\"APN\"]\n",
    "    .str.replace(\"-\", \"\")\n",
    "    .apply(\n",
    "        lambda x: \"Groundwater and Temporary Water\"\n",
    "        if x in TW[\"APN\"].unique() and x in GW[\"APN\"].unique()\n",
    "        else \"Temporary Water\"\n",
    "        if x in TW[\"APN\"].unique()\n",
    "        else \"Groundwater\"\n",
    "        if x in GW[\"APN\"].unique()\n",
    "        else \"Surface Water\"\n",
    "    )\n",
    ")"
   ]
  },
  {
   "cell_type": "code",
   "execution_count": 12,
   "metadata": {},
   "outputs": [
    {
     "data": {
      "text/plain": [
       "Groundwater                        8398\n",
       "Surface Water                      3230\n",
       "Groundwater and Temporary Water     320\n",
       "Temporary Water                      34\n",
       "Name: Service Area Type, dtype: int64"
      ]
     },
     "execution_count": 12,
     "metadata": {},
     "output_type": "execute_result"
    }
   ],
   "source": [
    "apn_gdf[\"Service Area Type\"].value_counts()"
   ]
  },
  {
   "cell_type": "code",
   "execution_count": 13,
   "metadata": {},
   "outputs": [],
   "source": [
    "apn_gdf.to_parquet(data_path.joinpath(\"apn_gdf_sa.parquet\"))"
   ]
  }
 ],
 "metadata": {
  "kernelspec": {
   "display_name": "pandas-analysis-pSGX_PKJ-py3.10",
   "language": "python",
   "name": "python3"
  },
  "language_info": {
   "codemirror_mode": {
    "name": "ipython",
    "version": 3
   },
   "file_extension": ".py",
   "mimetype": "text/x-python",
   "name": "python",
   "nbconvert_exporter": "python",
   "pygments_lexer": "ipython3",
   "version": "3.10.4"
  },
  "orig_nbformat": 4
 },
 "nbformat": 4,
 "nbformat_minor": 2
}
