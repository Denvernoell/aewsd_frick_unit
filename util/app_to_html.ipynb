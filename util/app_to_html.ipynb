{
 "cells": [
  {
   "cell_type": "code",
   "execution_count": 8,
   "metadata": {},
   "outputs": [
    {
     "name": "stdout",
     "output_type": "stream",
     "text": [
      "data_path g:\\Arvin-Edison WSD-1215\\121523003-Frick Unit Pipeline\\400 GIS\\Scripts\\aewsd_frick_unit\\util\\..\\data\n"
     ]
    }
   ],
   "source": [
    "from pathlib import Path\n",
    "import sys\n",
    "\n",
    "sys.path.append(\"..\")\n",
    "from data import gdf, apn_gdf, pipes, config\n",
    "from map_utils import make_map\n",
    "\n",
    "m = make_map(gdf, apn_gdf, pipes, config)\n",
    "save_path = Path(__file__).parent / \"map.html\"\n",
    "m.to_html(\"map.html\")"
   ]
  }
 ],
 "metadata": {
  "kernelspec": {
   "display_name": "pandas-analysis-vJUI3m7a-py3.10",
   "language": "python",
   "name": "python3"
  },
  "language_info": {
   "codemirror_mode": {
    "name": "ipython",
    "version": 3
   },
   "file_extension": ".py",
   "mimetype": "text/x-python",
   "name": "python",
   "nbconvert_exporter": "python",
   "pygments_lexer": "ipython3",
   "version": "3.10.4"
  }
 },
 "nbformat": 4,
 "nbformat_minor": 2
}
