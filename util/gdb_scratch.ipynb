{
 "cells": [
  {
   "cell_type": "code",
   "execution_count": 8,
   "metadata": {},
   "outputs": [
    {
     "data": {
      "text/html": [
       "<div>\n",
       "<style scoped>\n",
       "    .dataframe tbody tr th:only-of-type {\n",
       "        vertical-align: middle;\n",
       "    }\n",
       "\n",
       "    .dataframe tbody tr th {\n",
       "        vertical-align: top;\n",
       "    }\n",
       "\n",
       "    .dataframe thead th {\n",
       "        text-align: right;\n",
       "    }\n",
       "</style>\n",
       "<table border=\"1\" class=\"dataframe\">\n",
       "  <thead>\n",
       "    <tr style=\"text-align: right;\">\n",
       "      <th></th>\n",
       "      <th>Name</th>\n",
       "      <th>shape_type</th>\n",
       "      <th>color</th>\n",
       "      <th>size</th>\n",
       "      <th>alpha</th>\n",
       "      <th>label</th>\n",
       "      <th>file_type</th>\n",
       "      <th>shp</th>\n",
       "      <th>gdb</th>\n",
       "      <th>layer</th>\n",
       "      <th>display</th>\n",
       "    </tr>\n",
       "  </thead>\n",
       "  <tbody>\n",
       "    <tr>\n",
       "      <th>23</th>\n",
       "      <td>SL,PL,R-W</td>\n",
       "      <td>line</td>\n",
       "      <td>#FF00FF</td>\n",
       "      <td>2.0</td>\n",
       "      <td>0.2</td>\n",
       "      <td>NaN</td>\n",
       "      <td>shp</td>\n",
       "      <td>\\\\ppeng.com\\pzdata\\clients\\Arvin-Edison WSD-12...</td>\n",
       "      <td>NaN</td>\n",
       "      <td>NaN</td>\n",
       "      <td>NaN</td>\n",
       "    </tr>\n",
       "    <tr>\n",
       "      <th>24</th>\n",
       "      <td>Proposed Pipeline</td>\n",
       "      <td>line</td>\n",
       "      <td>orange</td>\n",
       "      <td>4.0</td>\n",
       "      <td>1.0</td>\n",
       "      <td>Label</td>\n",
       "      <td>shp</td>\n",
       "      <td>\\\\ppeng.com\\pzdata\\clients\\Arvin-Edison WSD-12...</td>\n",
       "      <td>NaN</td>\n",
       "      <td>NaN</td>\n",
       "      <td>1.0</td>\n",
       "    </tr>\n",
       "    <tr>\n",
       "      <th>25</th>\n",
       "      <td>Frick Unit Service Area</td>\n",
       "      <td>filled_polygon</td>\n",
       "      <td>red</td>\n",
       "      <td>4.0</td>\n",
       "      <td>0.7</td>\n",
       "      <td>NaN</td>\n",
       "      <td>shp</td>\n",
       "      <td>\\\\ppeng.com\\pzdata\\clients\\Arvin-Edison WSD-12...</td>\n",
       "      <td>NaN</td>\n",
       "      <td>NaN</td>\n",
       "      <td>1.0</td>\n",
       "    </tr>\n",
       "  </tbody>\n",
       "</table>\n",
       "</div>"
      ],
      "text/plain": [
       "                       Name      shape_type    color  size  alpha  label  \\\n",
       "23                SL,PL,R-W            line  #FF00FF   2.0    0.2    NaN   \n",
       "24        Proposed Pipeline            line   orange   4.0    1.0  Label   \n",
       "25  Frick Unit Service Area  filled_polygon      red   4.0    0.7    NaN   \n",
       "\n",
       "   file_type                                                shp  gdb layer  \\\n",
       "23       shp  \\\\ppeng.com\\pzdata\\clients\\Arvin-Edison WSD-12...  NaN   NaN   \n",
       "24       shp  \\\\ppeng.com\\pzdata\\clients\\Arvin-Edison WSD-12...  NaN   NaN   \n",
       "25       shp  \\\\ppeng.com\\pzdata\\clients\\Arvin-Edison WSD-12...  NaN   NaN   \n",
       "\n",
       "    display  \n",
       "23      NaN  \n",
       "24      1.0  \n",
       "25      1.0  "
      ]
     },
     "execution_count": 8,
     "metadata": {},
     "output_type": "execute_result"
    }
   ],
   "source": [
    "import geopandas as gpd\n",
    "import pandas as pd\n",
    "from pathlib import Path\n",
    "from IPython.display import display\n",
    "\n",
    "# data_path = Path('data')\n",
    "config = pd.read_excel(\"../data/config.xlsx\", sheet_name=\"layers\")\n",
    "config.tail(3)"
   ]
  },
  {
   "cell_type": "code",
   "execution_count": 13,
   "metadata": {},
   "outputs": [
    {
     "name": "stdout",
     "output_type": "stream",
     "text": [
      "Pipeline ESMT\n"
     ]
    },
    {
     "data": {
      "text/html": [
       "<div>\n",
       "<style scoped>\n",
       "    .dataframe tbody tr th:only-of-type {\n",
       "        vertical-align: middle;\n",
       "    }\n",
       "\n",
       "    .dataframe tbody tr th {\n",
       "        vertical-align: top;\n",
       "    }\n",
       "\n",
       "    .dataframe thead th {\n",
       "        text-align: right;\n",
       "    }\n",
       "</style>\n",
       "<table border=\"1\" class=\"dataframe\">\n",
       "  <thead>\n",
       "    <tr style=\"text-align: right;\">\n",
       "      <th></th>\n",
       "      <th>geometry</th>\n",
       "    </tr>\n",
       "  </thead>\n",
       "  <tbody>\n",
       "    <tr>\n",
       "      <th>0</th>\n",
       "      <td>POLYGON Z ((6296820.688 2291325.746 0.000, 629...</td>\n",
       "    </tr>\n",
       "    <tr>\n",
       "      <th>1</th>\n",
       "      <td>POLYGON Z ((6291515.653 2295289.213 0.000, 629...</td>\n",
       "    </tr>\n",
       "    <tr>\n",
       "      <th>2</th>\n",
       "      <td>POLYGON Z ((6296861.517 2295330.724 0.000, 629...</td>\n",
       "    </tr>\n",
       "    <tr>\n",
       "      <th>3</th>\n",
       "      <td>POLYGON Z ((6294185.682 2304587.860 0.000, 629...</td>\n",
       "    </tr>\n",
       "    <tr>\n",
       "      <th>4</th>\n",
       "      <td>POLYGON Z ((6296950.365 2300632.572 0.000, 629...</td>\n",
       "    </tr>\n",
       "  </tbody>\n",
       "</table>\n",
       "</div>"
      ],
      "text/plain": [
       "                                            geometry\n",
       "0  POLYGON Z ((6296820.688 2291325.746 0.000, 629...\n",
       "1  POLYGON Z ((6291515.653 2295289.213 0.000, 629...\n",
       "2  POLYGON Z ((6296861.517 2295330.724 0.000, 629...\n",
       "3  POLYGON Z ((6294185.682 2304587.860 0.000, 629...\n",
       "4  POLYGON Z ((6296950.365 2300632.572 0.000, 629..."
      ]
     },
     "metadata": {},
     "output_type": "display_data"
    },
    {
     "data": {
      "text/plain": [
       "<Axes: >"
      ]
     },
     "metadata": {},
     "output_type": "display_data"
    },
    {
     "data": {
      "image/png": "[encoded data removed]",
      "text/plain": [
       "<Figure size 640x480 with 1 Axes>"
      ]
     },
     "metadata": {},
     "output_type": "display_data"
    }
   ],
   "source": [
    "i = -4\n",
    "row = config.iloc[i]\n",
    "print(row[\"Name\"])\n",
    "gdf = gpd.read_file(row[\"shp\"])\n",
    "gdf.to_clipboard()\n",
    "display(gdf.head())\n",
    "display(gdf.plot())"
   ]
  }
 ],
 "metadata": {
  "kernelspec": {
   "display_name": "pandas-analysis-pSGX_PKJ-py3.10",
   "language": "python",
   "name": "python3"
  },
  "language_info": {
   "codemirror_mode": {
    "name": "ipython",
    "version": 3
   },
   "file_extension": ".py",
   "mimetype": "text/x-python",
   "name": "python",
   "nbconvert_exporter": "python",
   "pygments_lexer": "ipython3",
   "version": "3.10.4"
  },
  "orig_nbformat": 4
 },
 "nbformat": 4,
 "nbformat_minor": 2
}
