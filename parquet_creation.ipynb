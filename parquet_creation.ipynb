{
 "cells": [
  {
   "cell_type": "code",
   "execution_count": 16,
   "metadata": {},
   "outputs": [
    {
     "data": {
      "text/html": [
       "<div>\n",
       "<style scoped>\n",
       "    .dataframe tbody tr th:only-of-type {\n",
       "        vertical-align: middle;\n",
       "    }\n",
       "\n",
       "    .dataframe tbody tr th {\n",
       "        vertical-align: top;\n",
       "    }\n",
       "\n",
       "    .dataframe thead th {\n",
       "        text-align: right;\n",
       "    }\n",
       "</style>\n",
       "<table border=\"1\" class=\"dataframe\">\n",
       "  <thead>\n",
       "    <tr style=\"text-align: right;\">\n",
       "      <th></th>\n",
       "      <th>Name</th>\n",
       "      <th>shape_type</th>\n",
       "      <th>color</th>\n",
       "      <th>size</th>\n",
       "      <th>alpha</th>\n",
       "      <th>label</th>\n",
       "      <th>file_type</th>\n",
       "      <th>shp</th>\n",
       "      <th>gdb</th>\n",
       "      <th>layer</th>\n",
       "      <th>display</th>\n",
       "    </tr>\n",
       "  </thead>\n",
       "  <tbody>\n",
       "    <tr>\n",
       "      <th>0</th>\n",
       "      <td>Proposed Pipeline</td>\n",
       "      <td>line</td>\n",
       "      <td>orange</td>\n",
       "      <td>4.0</td>\n",
       "      <td>1.00</td>\n",
       "      <td>label</td>\n",
       "      <td>gdf</td>\n",
       "      <td>NaN</td>\n",
       "      <td>NaN</td>\n",
       "      <td>NaN</td>\n",
       "      <td>1.0</td>\n",
       "    </tr>\n",
       "    <tr>\n",
       "      <th>1</th>\n",
       "      <td>APNs</td>\n",
       "      <td>filled_polygon</td>\n",
       "      <td>white</td>\n",
       "      <td>NaN</td>\n",
       "      <td>0.05</td>\n",
       "      <td>label</td>\n",
       "      <td>gdf</td>\n",
       "      <td>NaN</td>\n",
       "      <td>NaN</td>\n",
       "      <td>NaN</td>\n",
       "      <td>1.0</td>\n",
       "    </tr>\n",
       "    <tr>\n",
       "      <th>2</th>\n",
       "      <td>District Boundary</td>\n",
       "      <td>hollow_polygon</td>\n",
       "      <td>black</td>\n",
       "      <td>15.0</td>\n",
       "      <td>1.00</td>\n",
       "      <td>WDNAME</td>\n",
       "      <td>shp</td>\n",
       "      <td>\\\\ppeng.com\\pzdata\\clients\\Arvin-Edison WSD-12...</td>\n",
       "      <td>NaN</td>\n",
       "      <td>NaN</td>\n",
       "      <td>1.0</td>\n",
       "    </tr>\n",
       "  </tbody>\n",
       "</table>\n",
       "</div>"
      ],
      "text/plain": [
       "                Name      shape_type   color  size  alpha   label file_type  \\\n",
       "0  Proposed Pipeline            line  orange   4.0   1.00   label       gdf   \n",
       "1               APNs  filled_polygon   white   NaN   0.05   label       gdf   \n",
       "2  District Boundary  hollow_polygon   black  15.0   1.00  WDNAME       shp   \n",
       "\n",
       "                                                 shp  gdb layer  display  \n",
       "0                                                NaN  NaN   NaN      1.0  \n",
       "1                                                NaN  NaN   NaN      1.0  \n",
       "2  \\\\ppeng.com\\pzdata\\clients\\Arvin-Edison WSD-12...  NaN   NaN      1.0  "
      ]
     },
     "execution_count": 16,
     "metadata": {},
     "output_type": "execute_result"
    }
   ],
   "source": [
    "import geopandas as gpd\n",
    "import pandas as pd\n",
    "from pathlib import Path\n",
    "# data_path = Path('data')\n",
    "config = pd.read_excel('data/config.xlsx', sheet_name='layers')\n",
    "config.head(3)"
   ]
  },
  {
   "cell_type": "code",
   "execution_count": 19,
   "metadata": {},
   "outputs": [
    {
     "name": "stdout",
     "output_type": "stream",
     "text": [
      "Frick Unit Service Area\n",
      "TWCS\n",
      "2d points\n",
      "2d Linework - Jose\n",
      "2d Linework - Cheryl\n"
     ]
    }
   ],
   "source": [
    "def get_layer(row):\n",
    "\tif row['display']==True:\n",
    "\t# \n",
    "\t\tif row['file_type'] == \"shp\":\n",
    "\t\t\tgdf = gpd.read_file(Path(row[\"shp\"]))\n",
    "\n",
    "\t\t\t\n",
    "\t\telif row['file_type'] == \"gdb\":\n",
    "\t\t\tgdb = Path(row[\"gdb\"])\n",
    "\t\t\tgdf = gpd.read_file(gdb,layer=row[\"layer\"])\n",
    "\t\telse:\n",
    "\t\t\t# gdf = row[\"gdf\"]\n",
    "\t\t\treturn None\n",
    "\t\t# gpd.GeoDataFrame(\n",
    "\t\t# \t\t# row[\"gdf\"],geometry=row[\"gdf\"].geometry\n",
    "\t\t# \t\t)\n",
    "\t\t\n",
    "\t\tgdf[\"color\"] = row[\"color\"]\n",
    "\t\t# gdf[\"label\"] = gdf[row[\"label\"]].astype(str)\n",
    "\t\t# print(gdf.columns)\n",
    "\t\tgdf[\"label\"] = gdf[row[\"label\"]].astype(str)\n",
    "\n",
    "\n",
    "\t\tgdf[\"layer\"] = row['Name']\n",
    "\t\tgdf[\"size\"] = row['size']\n",
    "\t\t# print(row['Name'])\n",
    "\t\t# print(gdf.crs)\n",
    "\t\t\n",
    "\t\t\n",
    "\t\treturn gdf[['color','label',\"layer\",'size',\"geometry\"]]#.to_crs(epsg=4326)\n",
    "\telse:\n",
    "\t\tprint(row['Name'])\n",
    "\t\treturn None\n",
    "# Create gdb\n",
    "gdfs = {y['Name']:get_layer(y) for i,y in config.iterrows()}\n",
    "# gdfs = {y['Name']:y for i,y in config.iterrows()}\n",
    "# gdfs['Proposed Pipeline']"
   ]
  },
  {
   "cell_type": "code",
   "execution_count": 20,
   "metadata": {},
   "outputs": [],
   "source": [
    "epsg = 4326\n",
    "# epsg = 26745\n",
    "# epsg = 2229\n",
    "# epsg = 6424\n",
    "gdf = pd.concat([gdf.to_crs(epsg=epsg) for gdf in gdfs.values() if gdf is not None])\n",
    "gdf.to_parquet(\"data\\\\gdf-2023-10-16.parquet\")"
   ]
  }
 ],
 "metadata": {
  "kernelspec": {
   "display_name": "pandas-analysis-pSGX_PKJ-py3.10",
   "language": "python",
   "name": "python3"
  },
  "language_info": {
   "codemirror_mode": {
    "name": "ipython",
    "version": 3
   },
   "file_extension": ".py",
   "mimetype": "text/x-python",
   "name": "python",
   "nbconvert_exporter": "python",
   "pygments_lexer": "ipython3",
   "version": "3.10.4"
  },
  "orig_nbformat": 4
 },
 "nbformat": 4,
 "nbformat_minor": 2
}
