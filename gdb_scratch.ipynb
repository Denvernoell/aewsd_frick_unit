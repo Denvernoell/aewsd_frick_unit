{
 "cells": [
  {
   "cell_type": "code",
   "execution_count": 2,
   "metadata": {},
   "outputs": [
    {
     "data": {
      "text/html": [
       "<div>\n",
       "<style scoped>\n",
       "    .dataframe tbody tr th:only-of-type {\n",
       "        vertical-align: middle;\n",
       "    }\n",
       "\n",
       "    .dataframe tbody tr th {\n",
       "        vertical-align: top;\n",
       "    }\n",
       "\n",
       "    .dataframe thead th {\n",
       "        text-align: right;\n",
       "    }\n",
       "</style>\n",
       "<table border=\"1\" class=\"dataframe\">\n",
       "  <thead>\n",
       "    <tr style=\"text-align: right;\">\n",
       "      <th></th>\n",
       "      <th>Name</th>\n",
       "      <th>shape_type</th>\n",
       "      <th>color</th>\n",
       "      <th>size</th>\n",
       "      <th>alpha</th>\n",
       "      <th>label</th>\n",
       "      <th>file_type</th>\n",
       "      <th>shp</th>\n",
       "      <th>gdb</th>\n",
       "      <th>layer</th>\n",
       "      <th>hide</th>\n",
       "    </tr>\n",
       "  </thead>\n",
       "  <tbody>\n",
       "    <tr>\n",
       "      <th>0</th>\n",
       "      <td>Proposed Pipeline</td>\n",
       "      <td>line</td>\n",
       "      <td>orange</td>\n",
       "      <td>4.0</td>\n",
       "      <td>1.00</td>\n",
       "      <td>label</td>\n",
       "      <td>gdf</td>\n",
       "      <td>NaN</td>\n",
       "      <td>NaN</td>\n",
       "      <td>NaN</td>\n",
       "      <td>NaN</td>\n",
       "    </tr>\n",
       "    <tr>\n",
       "      <th>1</th>\n",
       "      <td>APNs</td>\n",
       "      <td>filled_polygon</td>\n",
       "      <td>white</td>\n",
       "      <td>NaN</td>\n",
       "      <td>0.05</td>\n",
       "      <td>label</td>\n",
       "      <td>gdf</td>\n",
       "      <td>NaN</td>\n",
       "      <td>NaN</td>\n",
       "      <td>NaN</td>\n",
       "      <td>NaN</td>\n",
       "    </tr>\n",
       "    <tr>\n",
       "      <th>2</th>\n",
       "      <td>District Boundary</td>\n",
       "      <td>hollow_polygon</td>\n",
       "      <td>black</td>\n",
       "      <td>15.0</td>\n",
       "      <td>1.00</td>\n",
       "      <td>WDNAME</td>\n",
       "      <td>shp</td>\n",
       "      <td>\\\\ppeng.com\\pzdata\\clients\\Arvin-Edison WSD-12...</td>\n",
       "      <td>NaN</td>\n",
       "      <td>NaN</td>\n",
       "      <td>NaN</td>\n",
       "    </tr>\n",
       "  </tbody>\n",
       "</table>\n",
       "</div>"
      ],
      "text/plain": [
       "                Name      shape_type   color  size  alpha   label file_type  \\\n",
       "0  Proposed Pipeline            line  orange   4.0   1.00   label       gdf   \n",
       "1               APNs  filled_polygon   white   NaN   0.05   label       gdf   \n",
       "2  District Boundary  hollow_polygon   black  15.0   1.00  WDNAME       shp   \n",
       "\n",
       "                                                 shp  gdb layer  hide  \n",
       "0                                                NaN  NaN   NaN   NaN  \n",
       "1                                                NaN  NaN   NaN   NaN  \n",
       "2  \\\\ppeng.com\\pzdata\\clients\\Arvin-Edison WSD-12...  NaN   NaN   NaN  "
      ]
     },
     "execution_count": 2,
     "metadata": {},
     "output_type": "execute_result"
    }
   ],
   "source": [
    "import geopandas as gpd\n",
    "import pandas as pd\n",
    "from pathlib import Path\n",
    "from IPython.display import display\n",
    "# data_path = Path('data')\n",
    "config = pd.read_excel('data/config.xlsx', sheet_name='layers')\n",
    "config.head(3)"
   ]
  },
  {
   "cell_type": "code",
   "execution_count": 3,
   "metadata": {},
   "outputs": [
    {
     "name": "stdout",
     "output_type": "stream",
     "text": [
      "Frick Unit Service Area\n"
     ]
    },
    {
     "data": {
      "text/html": [
       "<div>\n",
       "<style scoped>\n",
       "    .dataframe tbody tr th:only-of-type {\n",
       "        vertical-align: middle;\n",
       "    }\n",
       "\n",
       "    .dataframe tbody tr th {\n",
       "        vertical-align: top;\n",
       "    }\n",
       "\n",
       "    .dataframe thead th {\n",
       "        text-align: right;\n",
       "    }\n",
       "</style>\n",
       "<table border=\"1\" class=\"dataframe\">\n",
       "  <thead>\n",
       "    <tr style=\"text-align: right;\">\n",
       "      <th></th>\n",
       "      <th>Name</th>\n",
       "      <th>Descr</th>\n",
       "      <th>Extrude</th>\n",
       "      <th>AltMode</th>\n",
       "      <th>Tessellate</th>\n",
       "      <th>Symbology</th>\n",
       "      <th>Transparen</th>\n",
       "      <th>PPGIS_ac</th>\n",
       "      <th>geometry</th>\n",
       "    </tr>\n",
       "  </thead>\n",
       "  <tbody>\n",
       "    <tr>\n",
       "      <th>0</th>\n",
       "      <td>Frick Unit North Service Area</td>\n",
       "      <td>NaN</td>\n",
       "      <td>0</td>\n",
       "      <td>ClampToGround</td>\n",
       "      <td>1</td>\n",
       "      <td>0</td>\n",
       "      <td>33</td>\n",
       "      <td>2843.79</td>\n",
       "      <td>POLYGON Z ((6291569.898 2300651.990 0.000, 629...</td>\n",
       "    </tr>\n",
       "  </tbody>\n",
       "</table>\n",
       "</div>"
      ],
      "text/plain": [
       "                            Name  Descr  Extrude        AltMode  Tessellate  \\\n",
       "0  Frick Unit North Service Area    NaN        0  ClampToGround           1   \n",
       "\n",
       "  Symbology  Transparen  PPGIS_ac  \\\n",
       "0         0          33   2843.79   \n",
       "\n",
       "                                            geometry  \n",
       "0  POLYGON Z ((6291569.898 2300651.990 0.000, 629...  "
      ]
     },
     "metadata": {},
     "output_type": "display_data"
    },
    {
     "data": {
      "text/plain": [
       "<Axes: >"
      ]
     },
     "metadata": {},
     "output_type": "display_data"
    },
    {
     "data": {
      "image/png": "[encoded data removed]",
      "text/plain": [
       "<Figure size 640x480 with 1 Axes>"
      ]
     },
     "metadata": {},
     "output_type": "display_data"
    }
   ],
   "source": [
    "i = -1\n",
    "row = config.iloc[i]\n",
    "print(row['Name'])\n",
    "gdf = gpd.read_file(row['shp'])\n",
    "gdf.to_clipboard()\n",
    "display(gdf.head())\n",
    "display(gdf.plot())"
   ]
  }
 ],
 "metadata": {
  "kernelspec": {
   "display_name": "pandas-analysis-pSGX_PKJ-py3.10",
   "language": "python",
   "name": "python3"
  },
  "language_info": {
   "codemirror_mode": {
    "name": "ipython",
    "version": 3
   },
   "file_extension": ".py",
   "mimetype": "text/x-python",
   "name": "python",
   "nbconvert_exporter": "python",
   "pygments_lexer": "ipython3",
   "version": "3.10.4"
  },
  "orig_nbformat": 4
 },
 "nbformat": 4,
 "nbformat_minor": 2
}
