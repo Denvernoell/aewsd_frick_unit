{
 "cells": [
  {
   "cell_type": "code",
   "execution_count": 2,
   "metadata": {},
   "outputs": [
    {
     "ename": "TypeError",
     "evalue": "GeoJson.__init__() got an unexpected keyword argument 'fields'",
     "output_type": "error",
     "traceback": [
      "\u001b[1;31m---------------------------------------------------------------------------\u001b[0m",
      "\u001b[1;31mTypeError\u001b[0m                                 Traceback (most recent call last)",
      "Cell \u001b[1;32mIn[2], line 3\u001b[0m\n\u001b[0;32m      1\u001b[0m \u001b[39mfrom\u001b[39;00m \u001b[39mmap_utils\u001b[39;00m \u001b[39mimport\u001b[39;00m make_map\n\u001b[0;32m      2\u001b[0m \u001b[39mfrom\u001b[39;00m \u001b[39mdata\u001b[39;00m \u001b[39mimport\u001b[39;00m gdf,apns\n\u001b[1;32m----> 3\u001b[0m m \u001b[39m=\u001b[39m make_map(gdf,apns)\n",
      "File \u001b[1;32mi:\\Project Resources\\Ag Water\\apps\\aewsd_frick_unit\\map_utils.py:37\u001b[0m, in \u001b[0;36mmake_map\u001b[1;34m(full_gdf, apns)\u001b[0m\n\u001b[0;32m     35\u001b[0m \t\tgdf \u001b[39m=\u001b[39m clip(gdf)\n\u001b[0;32m     36\u001b[0m \tcolor \u001b[39m=\u001b[39m gdf[\u001b[39m'\u001b[39m\u001b[39mcolor\u001b[39m\u001b[39m'\u001b[39m]\u001b[39m.\u001b[39munique()[\u001b[39m0\u001b[39m]\n\u001b[1;32m---> 37\u001b[0m \tm\u001b[39m.\u001b[39;49madd_gdf(\n\u001b[0;32m     38\u001b[0m \t\tgdf,\n\u001b[0;32m     39\u001b[0m \t\tlayer_name\u001b[39m=\u001b[39;49mlayer,\n\u001b[0;32m     40\u001b[0m \t\t\t\t\t\u001b[39m# style_function=lambda x: {\"color\": \"red\", \"fillOpacity\": 0},\u001b[39;49;00m\n\u001b[0;32m     41\u001b[0m \t\tfields\u001b[39m=\u001b[39;49m[\u001b[39m'\u001b[39;49m\u001b[39mlayer\u001b[39;49m\u001b[39m'\u001b[39;49m],\n\u001b[0;32m     42\u001b[0m \t\thighlight_function\u001b[39m=\u001b[39;49m\u001b[39mlambda\u001b[39;49;00m x: {\u001b[39m\"\u001b[39;49m\u001b[39mfillOpacity\u001b[39;49m\u001b[39m\"\u001b[39;49m: \u001b[39m0.7\u001b[39;49m, \u001b[39m\"\u001b[39;49m\u001b[39mweight\u001b[39;49m\u001b[39m\"\u001b[39;49m: \u001b[39m6\u001b[39;49m, \u001b[39m\"\u001b[39;49m\u001b[39mcolor\u001b[39;49m\u001b[39m\"\u001b[39;49m: \u001b[39m\"\u001b[39;49m\u001b[39mlightgreen\u001b[39;49m\u001b[39m\"\u001b[39;49m},\n\u001b[0;32m     43\u001b[0m \t\tstyle\u001b[39m=\u001b[39;49m{\n\u001b[0;32m     44\u001b[0m \t\t\t\u001b[39m'\u001b[39;49m\u001b[39mcolor\u001b[39;49m\u001b[39m'\u001b[39;49m:color,\n\u001b[0;32m     45\u001b[0m \t\t\t\u001b[39m'\u001b[39;49m\u001b[39mfillColor\u001b[39;49m\u001b[39m'\u001b[39;49m:\u001b[39m\"\u001b[39;49m\u001b[39mnone\u001b[39;49m\u001b[39m\"\u001b[39;49m,\n\u001b[0;32m     46\u001b[0m \t\t\t},\n\u001b[0;32m     47\u001b[0m \t\t\u001b[39m# highlight_function=lambda x: x['properties'],\u001b[39;49;00m\n\u001b[0;32m     48\u001b[0m \t\t\u001b[39m# highlight_function=lambda x: {\"l\":x['properties']['label']},\u001b[39;49;00m\n\u001b[0;32m     49\u001b[0m \t\t\u001b[39m# highlight_function=lambda x: {\"l\":x['properties']['label']},\u001b[39;49;00m\n\u001b[0;32m     50\u001b[0m \t\t)\n\u001b[0;32m     52\u001b[0m \u001b[39mfor\u001b[39;00m layer \u001b[39min\u001b[39;00m filled_polygons:\n\u001b[0;32m     53\u001b[0m \tgdf \u001b[39m=\u001b[39m full_gdf[full_gdf[\u001b[39m'\u001b[39m\u001b[39mlayer\u001b[39m\u001b[39m'\u001b[39m]\u001b[39m==\u001b[39mlayer]\n",
      "File \u001b[1;32mc:\\Users\\Denver\\AppData\\Local\\pypoetry\\Cache\\virtualenvs\\pandas-analysis-pSGX_PKJ-py3.10\\lib\\site-packages\\leafmap\\foliumap.py:1246\u001b[0m, in \u001b[0;36mMap.add_gdf\u001b[1;34m(self, gdf, layer_name, zoom_to_layer, info_mode, **kwargs)\u001b[0m\n\u001b[0;32m   1234\u001b[0m \u001b[39m\u001b[39m\u001b[39m\"\"\"Adds a GeoPandas GeoDataFrameto the map.\u001b[39;00m\n\u001b[0;32m   1235\u001b[0m \n\u001b[0;32m   1236\u001b[0m \u001b[39mArgs:\u001b[39;00m\n\u001b[1;32m   (...)\u001b[0m\n\u001b[0;32m   1241\u001b[0m \n\u001b[0;32m   1242\u001b[0m \u001b[39m\"\"\"\u001b[39;00m\n\u001b[0;32m   1244\u001b[0m data \u001b[39m=\u001b[39m gdf_to_geojson(gdf, epsg\u001b[39m=\u001b[39m\u001b[39m\"\u001b[39m\u001b[39m4326\u001b[39m\u001b[39m\"\u001b[39m)\n\u001b[1;32m-> 1246\u001b[0m \u001b[39mself\u001b[39m\u001b[39m.\u001b[39madd_geojson(data, layer_name\u001b[39m=\u001b[39mlayer_name, info_mode\u001b[39m=\u001b[39minfo_mode, \u001b[39m*\u001b[39m\u001b[39m*\u001b[39mkwargs)\n\u001b[0;32m   1248\u001b[0m \u001b[39mif\u001b[39;00m zoom_to_layer:\n\u001b[0;32m   1249\u001b[0m     \u001b[39mimport\u001b[39;00m \u001b[39mnumpy\u001b[39;00m \u001b[39mas\u001b[39;00m \u001b[39mnp\u001b[39;00m\n",
      "File \u001b[1;32mc:\\Users\\Denver\\AppData\\Local\\pypoetry\\Cache\\virtualenvs\\pandas-analysis-pSGX_PKJ-py3.10\\lib\\site-packages\\leafmap\\foliumap.py:1221\u001b[0m, in \u001b[0;36mMap.add_geojson\u001b[1;34m(self, in_geojson, layer_name, encoding, info_mode, **kwargs)\u001b[0m\n\u001b[0;32m   1218\u001b[0m     \u001b[39melif\u001b[39;00m info_mode \u001b[39m==\u001b[39m \u001b[39m\"\u001b[39m\u001b[39mon_click\u001b[39m\u001b[39m\"\u001b[39m:\n\u001b[0;32m   1219\u001b[0m         popup \u001b[39m=\u001b[39m folium\u001b[39m.\u001b[39mGeoJsonPopup(fields\u001b[39m=\u001b[39mprops)\n\u001b[1;32m-> 1221\u001b[0m geojson \u001b[39m=\u001b[39m folium\u001b[39m.\u001b[39mGeoJson(\n\u001b[0;32m   1222\u001b[0m     data\u001b[39m=\u001b[39mdata, name\u001b[39m=\u001b[39mlayer_name, tooltip\u001b[39m=\u001b[39mtooltip, popup\u001b[39m=\u001b[39mpopup, \u001b[39m*\u001b[39m\u001b[39m*\u001b[39mkwargs\n\u001b[0;32m   1223\u001b[0m )\n\u001b[0;32m   1224\u001b[0m geojson\u001b[39m.\u001b[39madd_to(\u001b[39mself\u001b[39m)\n",
      "\u001b[1;31mTypeError\u001b[0m: GeoJson.__init__() got an unexpected keyword argument 'fields'"
     ]
    }
   ],
   "source": [
    "from map_utils import make_map\n",
    "from data import gdf,apns\n",
    "m = make_map(gdf,apns)"
   ]
  },
  {
   "cell_type": "code",
   "execution_count": null,
   "metadata": {},
   "outputs": [],
   "source": []
  }
 ],
 "metadata": {
  "kernelspec": {
   "display_name": "pandas-analysis-pSGX_PKJ-py3.10",
   "language": "python",
   "name": "python3"
  },
  "language_info": {
   "codemirror_mode": {
    "name": "ipython",
    "version": 3
   },
   "file_extension": ".py",
   "mimetype": "text/x-python",
   "name": "python",
   "nbconvert_exporter": "python",
   "pygments_lexer": "ipython3",
   "version": "3.10.4"
  },
  "orig_nbformat": 4
 },
 "nbformat": 4,
 "nbformat_minor": 2
}
